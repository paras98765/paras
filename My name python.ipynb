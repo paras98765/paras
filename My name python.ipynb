{
 "cells": [
  {
   "cell_type": "code",
   "execution_count": 4,
   "metadata": {},
   "outputs": [
    {
     "name": "stdout",
     "output_type": "stream",
     "text": [
      "Let's talk about Paras.\n",
      "He's 74 inches tall.\n",
      "He's 180 pounds heavy.\n",
      "Actually that's not too heavy.\n",
      "He's got Blue eyes and Brown hair.\n",
      "His teeth are usually White depending on the coffee.\n",
      "If I add 35, 74, and 180 I get 289.\n"
     ]
    }
   ],
   "source": [
    " my_name = 'Paras'\n",
    " my_age = 35 \n",
    " my_height = 74 \n",
    " my_weight = 180 \n",
    " my_eyes = 'Blue'\n",
    " my_teeth = 'White'\n",
    " my_hair = 'Brown'\n",
    "\n",
    " print(f\"Let's talk about {my_name}.\")\n",
    " print(f\"He's {my_height} inches tall.\")\n",
    " print(f\"He's {my_weight} pounds heavy.\")\n",
    " print(\"Actually that's not too heavy.\")\n",
    " print(f\"He's got {my_eyes} eyes and {my_hair} hair.\")\n",
    " print(f\"His teeth are usually {my_teeth} depending on the coffee.\")\n",
    "\n",
    "\n",
    " total = my_age + my_height + my_weight\n",
    " print(f\"If I add {my_age}, {my_height}, and {my_weight} I get {total}.\")"
   ]
  }
 ],
 "metadata": {
  "kernelspec": {
   "display_name": "Python 3.11.0 64-bit",
   "language": "python",
   "name": "python3"
  },
  "language_info": {
   "codemirror_mode": {
    "name": "ipython",
    "version": 3
   },
   "file_extension": ".py",
   "mimetype": "text/x-python",
   "name": "python",
   "nbconvert_exporter": "python",
   "pygments_lexer": "ipython3",
   "version": "3.11.0"
  },
  "orig_nbformat": 4,
  "vscode": {
   "interpreter": {
    "hash": "1f6a27bcfbe46a917dbd192f4a82657396dda26148bae633192e8d28c70725f1"
   }
  }
 },
 "nbformat": 4,
 "nbformat_minor": 2
}
