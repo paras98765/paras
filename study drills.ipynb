{
 "cells": [
  {
   "cell_type": "code",
   "execution_count": 3,
   "metadata": {},
   "outputs": [
    {
     "ename": "SyntaxError",
     "evalue": "invalid syntax (4071979668.py, line 2)",
     "output_type": "error",
     "traceback": [
      "\u001b[1;36m  Cell \u001b[1;32mIn [3], line 2\u001b[1;36m\u001b[0m\n\u001b[1;33m    15 print(\"What is 5 - 7?\", 5 - 7)\u001b[0m\n\u001b[1;37m       ^\u001b[0m\n\u001b[1;31mSyntaxError\u001b[0m\u001b[1;31m:\u001b[0m invalid syntax\n"
     ]
    }
   ],
   "source": [
    "print(\"What is 3 + 2?\", 3 + 2)\n",
    "15 print(\"What is 5 - 7?\", 5 - 7)\n",
    "16\n",
    "17 print(\"Oh, that's why it's False.\")\n",
    "18\n",
    "19 print(\"How about some more.\")\n",
    "20\n",
    "21 print(\"Is it greater?\", 5 > -2)\n",
    "22 print(\"Is it greater or equal?\", 5 >= -2)\n",
    "23 print(\"Is it less or equal?\", 5 <= -2)"
   ]
  },
  {
   "cell_type": "code",
   "execution_count": null,
   "metadata": {},
   "outputs": [
    {
     "ename": "",
     "evalue": "",
     "output_type": "error",
     "traceback": [
      "\u001b[1;31mRunning cells with 'Python 3.11.0 64-bit' requires ipykernel package.\n",
      "\u001b[1;31mRun the following command to install 'ipykernel' into the Python environment. \n",
      "\u001b[1;31mCommand: 'c:/Users/HP/AppData/Local/Programs/Python/Python311/python.exe -m pip install ipykernel -U --user --force-reinstall'"
     ]
    }
   ],
   "source": [
    "cars = 100\n",
    "2 space_in_a_car = 4.0\n",
    "3 drivers = 30\n",
    "4 passengers = 90\n",
    "5 cars_not_driven = cars - drivers\n",
    "6 cars_driven = drivers\n",
    "7 carpool_capacity = cars_driven * space_in_a_car\n",
    "8 average_passengers_per_car = passengers / cars_driven\n",
    "9\n",
    "10\n",
    "11 print(\"There are\", cars, \"cars available.\")\n",
    "12 print(\"There are only\", drivers, \"drivers available.\")\n",
    "13 print(\"There will be\", cars_not_driven, \"empty cars today.\")\n",
    "14 print(\"We can transport\", carpool_capacity, \"people today.\")\n",
    "15 print(\"We have\", passengers, \"to carpool today.\")\n",
    "16 print(\"We need to put about\", average_passengers_per_car,\n",
    "17 \"in each car.\")"
   ]
  },
  {
   "cell_type": "code",
   "execution_count": null,
   "metadata": {},
   "outputs": [
    {
     "name": "stdout",
     "output_type": "stream",
     "text": [
      "This will run\n"
     ]
    }
   ],
   "source": [
    "print(\"This will run\")"
   ]
  },
  {
   "cell_type": "code",
   "execution_count": 7,
   "metadata": {},
   "outputs": [
    {
     "ename": "SyntaxError",
     "evalue": "invalid syntax (206470087.py, line 2)",
     "output_type": "error",
     "traceback": [
      "\u001b[1;36m  Cell \u001b[1;32mIn [7], line 2\u001b[1;36m\u001b[0m\n\u001b[1;33m    2 space_in_a_car = 4.0\u001b[0m\n\u001b[1;37m      ^\u001b[0m\n\u001b[1;31mSyntaxError\u001b[0m\u001b[1;31m:\u001b[0m invalid syntax\n"
     ]
    }
   ],
   "source": [
    "cars = 100\n",
    "2 space_in_a_car = 4.0\n",
    "3 drivers = 30\n",
    "4 passengers = 90\n",
    "5 cars_not_driven = cars - drivers\n",
    "6 cars_driven = drivers\n",
    "7 carpool_capacity = cars_driven * space in a car\n",
    "8 average_passengers_per_car = passengers / cars_driven\n",
    "9\n",
    "10\n",
    "11 print(\"There are\", cars, \"cars available.\")\n",
    "12 print(\"There are only\", drivers, \"drivers available.\")\n",
    "13 print(\"There will be\", cars_not_driven, \"empty cars today.\")\n",
    "14 print(\"We can transport\", carpool_capacity, \"people today.\")\n",
    "15 print(\"We have\", passengers, \"to carpool today.\")\n",
    "16 print(\"We need to put about\", average_passengers_per_car,\n",
    "17 \"in each car.\")"
   ]
  },
  {
   "cell_type": "code",
   "execution_count": 21,
   "metadata": {},
   "outputs": [
    {
     "name": "stdout",
     "output_type": "stream",
     "text": [
      "I will now count my chickens:\n",
      "Hens 30.0\n",
      "Roosters 97\n",
      "Now I will count the eggs:\n",
      "6.75\n",
      "Is it true that 3 + 2 < 5 - 7?\n",
      "False\n",
      "What is 3 + 2? 5\n",
      "What is 5 - 7? -2\n",
      "Oh, that's why it's False.\n",
      "How about some more.\n",
      "Is it greater? True\n",
      "Is it greater or equal? True\n",
      "Is it less or equal? False\n"
     ]
    }
   ],
   "source": [
    " print(\"I will now count my chickens:\")\n",
    "\n",
    " print(\"Hens\", 25 + 30 / 6)\n",
    " print(\"Roosters\", 100 - 25 * 3 % 4)\n",
    " print(\"Now I will count the eggs:\")\n",
    " print(3 + 2 + 1 - 5 + 4 % 2 - 1 / 4 + 6)\n",
    "\n",
    " print(\"Is it true that 3 + 2 < 5 - 7?\")\n",
    "\n",
    " print(3 + 2 < 5 - 7)\n",
    " print(\"What is 3 + 2?\", 3 + 2)\n",
    " print(\"What is 5 - 7?\", 5 - 7)\n",
    "\n",
    " print(\"Oh, that's why it's False.\")\n",
    " print(\"How about some more.\")\n",
    "\n",
    " print(\"Is it greater?\", 5 > -2)\n",
    " print(\"Is it greater or equal?\", 5 >= -2)\n",
    " print(\"Is it less or equal?\", 5 <= -2)"
   ]
  },
  {
   "cell_type": "code",
   "execution_count": 22,
   "metadata": {},
   "outputs": [
    {
     "ename": "SyntaxError",
     "evalue": "invalid syntax (3934201200.py, line 1)",
     "output_type": "error",
     "traceback": [
      "\u001b[1;36m  Cell \u001b[1;32mIn [22], line 1\u001b[1;36m\u001b[0m\n\u001b[1;33m    cars = 100                   space_in_a_car = 4.0\u001b[0m\n\u001b[1;37m                                 ^\u001b[0m\n\u001b[1;31mSyntaxError\u001b[0m\u001b[1;31m:\u001b[0m invalid syntax\n"
     ]
    }
   ],
   "source": [
    "cars = 100                   space_in_a_car = 4.0\n",
    " drivers = 30\n",
    "passengers = 90\n",
    " cars_not_driven = cars - drivers\n",
    " cars_driven = drivers\n",
    " carpool_capacity = cars_driven * space_in_a_car\n",
    " average_passengers_per_car = passengers / cars_driven\n",
    "\n",
    "\n",
    " print(\"There are\", cars, \"cars available.\")\n",
    " print(\"There are only\", drivers, \"drivers available.\")\n",
    " print(\"There will be\", cars_not_driven, \"empty cars today.\")\n",
    " print(\"We can transport\", carpool_capacity, \"people today.\")\n",
    " print(\"We have\", passengers, \"to carpool today.\")\n",
    " print(\"We need to put about\", average_passengers_per_car,\n",
    "\"in each car.\")"
   ]
  },
  {
   "cell_type": "code",
   "execution_count": null,
   "metadata": {},
   "outputs": [
    {
     "name": "stdout",
     "output_type": "stream",
     "text": [
      "There are 100 cars available.\n",
      "There are only 30 drivers available.\n",
      "There will be 70 empty cars today.\n",
      "We can transport 120.0 people today.\n",
      "We have 90 to carpool today.\n",
      "We need to put about 3.0 in each car.\n"
     ]
    }
   ],
   "source": [
    " cars = 100\n",
    " space_in_a_car = 4.0\n",
    " drivers = 30\n",
    " passengers = 90\n",
    " cars_not_driven = cars - drivers\n",
    " cars_driven = drivers\n",
    " carpool_capacity = cars_driven * space_in_a_car\n",
    " average_passengers_per_car = passengers / cars_driven\n",
    "\n",
    "\n",
    " print(\"There are\", cars, \"cars available.\")\n",
    " print(\"There are only\", drivers, \"drivers available.\")\n",
    " print(\"There will be\", cars_not_driven, \"empty cars today.\")\n",
    " print(\"We can transport\", carpool_capacity, \"people today.\")\n",
    " print(\"We have\", passengers, \"to carpool today.\")\n",
    " print(\"We need to put about\", average_passengers_per_car,\n",
    " \"in each car.\")"
   ]
  }
 ],
 "metadata": {
  "kernelspec": {
   "display_name": "Python 3.11.0 64-bit",
   "language": "python",
   "name": "python3"
  },
  "language_info": {
   "codemirror_mode": {
    "name": "ipython",
    "version": 3
   },
   "file_extension": ".py",
   "mimetype": "text/x-python",
   "name": "python",
   "nbconvert_exporter": "python",
   "pygments_lexer": "ipython3",
   "version": "3.11.0"
  },
  "orig_nbformat": 4,
  "vscode": {
   "interpreter": {
    "hash": "1f6a27bcfbe46a917dbd192f4a82657396dda26148bae633192e8d28c70725f1"
   }
  }
 },
 "nbformat": 4,
 "nbformat_minor": 2
}
